{
 "cells": [
  {
   "cell_type": "code",
   "execution_count": 1,
   "metadata": {},
   "outputs": [],
   "source": [
    "import numpy as np"
   ]
  },
  {
   "cell_type": "code",
   "execution_count": 4,
   "metadata": {},
   "outputs": [],
   "source": [
    "def perceptron_single_step_update_origin(\n",
    "        feature_vector,\n",
    "        label,\n",
    "        current_theta):\n",
    "    \"\"\"\n",
    "    Properly updates the classification parameter, theta and theta_0, on a\n",
    "    single step of the perceptron algorithm.\n",
    "\n",
    "    Args:\n",
    "        feature_vector - A numpy array describing a single data point.\n",
    "        label - The correct classification of the feature vector.\n",
    "        current_theta - The current theta being used by the perceptron\n",
    "            algorithm before this update.\n",
    "        current_theta_0 - The current theta_0 being used by the perceptron\n",
    "            algorithm before this update.\n",
    "\n",
    "    Returns: A tuple where the first element is a numpy array with the value of\n",
    "    theta after the current update has completed and the second element is a\n",
    "    real valued number with the value of theta_0 after the current updated has\n",
    "    completed.\n",
    "    \"\"\"\n",
    "    # Your code here\n",
    "    if label*(current_theta.dot(feature_vector)) <= 0:\n",
    "        current_theta += label*feature_vector\n",
    "    \n",
    "    return (current_theta)\n",
    "    raise NotImplementedError\n"
   ]
  },
  {
   "cell_type": "code",
   "execution_count": 5,
   "metadata": {},
   "outputs": [],
   "source": [
    "def perceptron_origin(feature_matrix, labels, T):\n",
    "    \"\"\"\n",
    "    Runs the full perceptron algorithm on a given set of data. Runs T\n",
    "    iterations through the data set, there is no need to worry about\n",
    "    stopping early.\n",
    "\n",
    "    NOTE: Please use the previously implemented functions when applicable.\n",
    "    Do not copy paste code from previous parts.\n",
    "\n",
    "    NOTE: Iterate the data matrix by the orders returned by get_order(feature_matrix.shape[0])\n",
    "\n",
    "    Args:\n",
    "        feature_matrix -  A numpy matrix describing the given data. Each row\n",
    "            represents a single data point.\n",
    "        labels - A numpy array where the kth element of the array is the\n",
    "            correct classification of the kth row of the feature matrix.\n",
    "        T - An integer indicating how many times the perceptron algorithm\n",
    "            should iterate through the feature matrix.\n",
    "\n",
    "    Returns: A tuple where the first element is a numpy array with the value of\n",
    "    theta, the linear classification parameter, after T iterations through the\n",
    "    feature matrix and the second element is a real number with the value of\n",
    "    theta_0, the offset classification parameter, after T iterations through\n",
    "    the feature matrix.\n",
    "    \"\"\"\n",
    "    # Your code here\n",
    " \n",
    "    current_theta = np.zeros(feature_matrix.shape[1])\n",
    "    for t in range(T):\n",
    "        for i in range(len(feature_matrix)):\n",
    "            # Your code here\n",
    "            current_theta= perceptron_single_step_update_origin(feature_matrix[i],labels[i],current_theta)\n",
    "            print(current_theta)\n",
    "            pass\n",
    "    return(current_theta)\n",
    "    raise NotImplementedError\n"
   ]
  },
  {
   "cell_type": "code",
   "execution_count": 6,
   "metadata": {},
   "outputs": [
    {
     "name": "stdout",
     "output_type": "stream",
     "text": [
      "[-1. -1.]\n",
      "[-1. -1.]\n",
      "[-2.   0.5]\n",
      "[-2.   0.5]\n",
      "[-2.   0.5]\n",
      "[-2.   0.5]\n",
      "[-2.   0.5]\n",
      "[-2.   0.5]\n",
      "[-2.   0.5]\n",
      "[-2.   0.5]\n",
      "[-2.   0.5]\n",
      "[-2.   0.5]\n"
     ]
    },
    {
     "data": {
      "text/plain": [
       "array([-2. ,  0.5])"
      ]
     },
     "execution_count": 6,
     "metadata": {},
     "output_type": "execute_result"
    }
   ],
   "source": [
    "mat = np.array([[-1,-1],[1,0],[-1,1.5]])\n",
    "labels = np.array([1,-1,1])\n",
    "perceptron_origin(mat,labels,4)"
   ]
  },
  {
   "cell_type": "code",
   "execution_count": 7,
   "metadata": {},
   "outputs": [
    {
     "name": "stdout",
     "output_type": "stream",
     "text": [
      "[-1.  0.]\n",
      "[-1.  0.]\n",
      "[-1.  0.]\n",
      "[-1.  0.]\n",
      "[-1.  0.]\n",
      "[-1.  0.]\n"
     ]
    },
    {
     "data": {
      "text/plain": [
       "array([-1.,  0.])"
      ]
     },
     "execution_count": 7,
     "metadata": {},
     "output_type": "execute_result"
    }
   ],
   "source": [
    "mat = np.array([[1,0],[-1,1.5],[-1,-1]])\n",
    "labels = np.array([-1,1,1])\n",
    "perceptron_origin(mat,labels,2)"
   ]
  },
  {
   "cell_type": "code",
   "execution_count": 8,
   "metadata": {},
   "outputs": [
    {
     "name": "stdout",
     "output_type": "stream",
     "text": [
      "[-1. -1.]\n",
      "[-1. -1.]\n",
      "[-2.  9.]\n",
      "[-3.  8.]\n",
      "[-3.  8.]\n",
      "[-3.  8.]\n",
      "[-4.  7.]\n",
      "[-4.  7.]\n",
      "[-4.  7.]\n",
      "[-5.  6.]\n",
      "[-5.  6.]\n",
      "[-5.  6.]\n",
      "[-6.  5.]\n",
      "[-6.  5.]\n",
      "[-6.  5.]\n",
      "[-6.  5.]\n",
      "[-6.  5.]\n",
      "[-6.  5.]\n",
      "[-6.  5.]\n",
      "[-6.  5.]\n",
      "[-6.  5.]\n",
      "[-6.  5.]\n",
      "[-6.  5.]\n",
      "[-6.  5.]\n",
      "[-6.  5.]\n",
      "[-6.  5.]\n",
      "[-6.  5.]\n",
      "[-6.  5.]\n",
      "[-6.  5.]\n",
      "[-6.  5.]\n",
      "[-6.  5.]\n",
      "[-6.  5.]\n",
      "[-6.  5.]\n",
      "[-6.  5.]\n",
      "[-6.  5.]\n",
      "[-6.  5.]\n"
     ]
    },
    {
     "data": {
      "text/plain": [
       "array([-6.,  5.])"
      ]
     },
     "execution_count": 8,
     "metadata": {},
     "output_type": "execute_result"
    }
   ],
   "source": [
    "mat = np.array([[-1,-1],[1,0],[-1,10]])\n",
    "labels = np.array([1,-1,1])\n",
    "perceptron_origin(mat,labels,12)"
   ]
  },
  {
   "cell_type": "code",
   "execution_count": 9,
   "metadata": {},
   "outputs": [
    {
     "name": "stdout",
     "output_type": "stream",
     "text": [
      "[-1.  0.]\n",
      "[-1.  0.]\n",
      "[-1.  0.]\n",
      "[-1.  0.]\n",
      "[-1.  0.]\n",
      "[-1.  0.]\n",
      "[-1.  0.]\n",
      "[-1.  0.]\n",
      "[-1.  0.]\n",
      "[-1.  0.]\n",
      "[-1.  0.]\n",
      "[-1.  0.]\n",
      "[-1.  0.]\n",
      "[-1.  0.]\n",
      "[-1.  0.]\n",
      "[-1.  0.]\n",
      "[-1.  0.]\n",
      "[-1.  0.]\n",
      "[-1.  0.]\n",
      "[-1.  0.]\n",
      "[-1.  0.]\n",
      "[-1.  0.]\n",
      "[-1.  0.]\n",
      "[-1.  0.]\n",
      "[-1.  0.]\n",
      "[-1.  0.]\n",
      "[-1.  0.]\n"
     ]
    },
    {
     "data": {
      "text/plain": [
       "array([-1.,  0.])"
      ]
     },
     "execution_count": 9,
     "metadata": {},
     "output_type": "execute_result"
    }
   ],
   "source": [
    "mat = np.array([[1,0],[-1,10],[-1,-1]])\n",
    "labels = np.array([-1,1,1])\n",
    "perceptron_origin(mat,labels,9)"
   ]
  },
  {
   "cell_type": "code",
   "execution_count": 6,
   "metadata": {},
   "outputs": [],
   "source": [
    "def perceptron_single_step_update(\n",
    "        feature_vector,\n",
    "        label,\n",
    "        current_theta,\n",
    "        current_theta_0):\n",
    "    \"\"\"\n",
    "    Properly updates the classification parameter, theta and theta_0, on a\n",
    "    single step of the perceptron algorithm.\n",
    "\n",
    "    Args:\n",
    "        feature_vector - A numpy array describing a single data point.\n",
    "        label - The correct classification of the feature vector.\n",
    "        current_theta - The current theta being used by the perceptron\n",
    "            algorithm before this update.\n",
    "        current_theta_0 - The current theta_0 being used by the perceptron\n",
    "            algorithm before this update.\n",
    "\n",
    "    Returns: A tuple where the first element is a numpy array with the value of\n",
    "    theta after the current update has completed and the second element is a\n",
    "    real valued number with the value of theta_0 after the current updated has\n",
    "    completed.\n",
    "    \"\"\"\n",
    "    # Your code here\n",
    "    if label*(current_theta.dot(feature_vector)+current_theta_0) <= 0:\n",
    "        current_theta += label*feature_vector\n",
    "        current_theta_0 += label\n",
    "    \n",
    "    return (current_theta, current_theta_0)\n",
    "    raise NotImplementedError\n"
   ]
  },
  {
   "cell_type": "code",
   "execution_count": 4,
   "metadata": {},
   "outputs": [],
   "source": [
    "def perceptron(feature_matrix, labels, T):\n",
    "    \"\"\"\n",
    "    Runs the full perceptron algorithm on a given set of data. Runs T\n",
    "    iterations through the data set, there is no need to worry about\n",
    "    stopping early.\n",
    "\n",
    "    NOTE: Please use the previously implemented functions when applicable.\n",
    "    Do not copy paste code from previous parts.\n",
    "\n",
    "    NOTE: Iterate the data matrix by the orders returned by get_order(feature_matrix.shape[0])\n",
    "\n",
    "    Args:\n",
    "        feature_matrix -  A numpy matrix describing the given data. Each row\n",
    "            represents a single data point.\n",
    "        labels - A numpy array where the kth element of the array is the\n",
    "            correct classification of the kth row of the feature matrix.\n",
    "        T - An integer indicating how many times the perceptron algorithm\n",
    "            should iterate through the feature matrix.\n",
    "\n",
    "    Returns: A tuple where the first element is a numpy array with the value of\n",
    "    theta, the linear classification parameter, after T iterations through the\n",
    "    feature matrix and the second element is a real number with the value of\n",
    "    theta_0, the offset classification parameter, after T iterations through\n",
    "    the feature matrix.\n",
    "    \"\"\"\n",
    "    # Your code here\n",
    "    current_theta_0 = 0\n",
    "    current_theta = np.array([-3,3])\n",
    "    for t in range(T):\n",
    "        for i in range(len(feature_matrix)):\n",
    "            # Your code here\n",
    "            current_theta, current_theta_0 = perceptron_single_step_update(feature_matrix[i],labels[i],current_theta,current_theta_0)\n",
    "            print(current_theta,current_theta_0)\n",
    "            pass\n",
    "    return(current_theta,current_theta_0)\n",
    "    raise NotImplementedError\n"
   ]
  },
  {
   "cell_type": "code",
   "execution_count": 17,
   "metadata": {},
   "outputs": [
    {
     "name": "stdout",
     "output_type": "stream",
     "text": [
      "[-3  3] -1\n",
      "[-3  3] -1\n",
      "[-3  3] -1\n",
      "[-3  3] -1\n",
      "[-3  3] -1\n",
      "[-3  3] -1\n",
      "[-3  3] -1\n",
      "[-3  3] -1\n",
      "[-3  3] -1\n",
      "[-3  3] -1\n",
      "[-3  3] -1\n",
      "[-3  3] -1\n",
      "[-3  3] -1\n",
      "[-3  3] -1\n",
      "[-3  3] -1\n",
      "[-3  3] -1\n",
      "[-3  3] -1\n",
      "[-3  3] -1\n",
      "[-3  3] -1\n",
      "[-3  3] -1\n",
      "[-3  3] -1\n",
      "[-3  3] -1\n",
      "[-3  3] -1\n",
      "[-3  3] -1\n",
      "[-3  3] -1\n",
      "[-3  3] -1\n",
      "[-3  3] -1\n",
      "[-3  3] -1\n",
      "[-3  3] -1\n",
      "[-3  3] -1\n",
      "[-3  3] -1\n",
      "[-3  3] -1\n",
      "[-3  3] -1\n",
      "[-3  3] -1\n",
      "[-3  3] -1\n",
      "[-3  3] -1\n",
      "[-3  3] -1\n",
      "[-3  3] -1\n",
      "[-3  3] -1\n",
      "[-3  3] -1\n",
      "[-3  3] -1\n",
      "[-3  3] -1\n",
      "[-3  3] -1\n",
      "[-3  3] -1\n",
      "[-3  3] -1\n"
     ]
    },
    {
     "data": {
      "text/plain": [
       "(array([-3,  3]), -1)"
      ]
     },
     "execution_count": 17,
     "metadata": {},
     "output_type": "execute_result"
    }
   ],
   "source": [
    "mat = np.array([[-4,2],[-2,1],[-1,-1],[2,2],[1,-2]])\n",
    "labels = np.array([1,1,-1,-1,-1])\n",
    "perceptron(mat,labels,9)"
   ]
  },
  {
   "cell_type": "code",
   "execution_count": 7,
   "metadata": {},
   "outputs": [
    {
     "name": "stdout",
     "output_type": "stream",
     "text": [
      "[-3  3] 0\n",
      "[-2  2] 1\n",
      "[-3  1] 0\n",
      "[-3  1] 0\n",
      "[-3  1] 0\n",
      "[-2  0] 1\n",
      "[-2  0] 1\n",
      "[-2  0] 1\n",
      "[-2  0] 1\n",
      "[-1 -1] 2\n",
      "[-2 -2] 1\n",
      "[-2 -2] 1\n",
      "[-2 -2] 1\n",
      "[-2 -2] 1\n",
      "[-2 -2] 1\n",
      "[-2 -2] 1\n",
      "[-2 -2] 1\n",
      "[-2 -2] 1\n",
      "[-2 -2] 1\n",
      "[-2 -2] 1\n",
      "[-2 -2] 1\n",
      "[-2 -2] 1\n",
      "[-2 -2] 1\n",
      "[-2 -2] 1\n",
      "[-2 -2] 1\n",
      "[-2 -2] 1\n",
      "[-2 -2] 1\n",
      "[-2 -2] 1\n",
      "[-2 -2] 1\n",
      "[-2 -2] 1\n",
      "[-2 -2] 1\n",
      "[-2 -2] 1\n",
      "[-2 -2] 1\n",
      "[-2 -2] 1\n",
      "[-2 -2] 1\n",
      "[-2 -2] 1\n"
     ]
    },
    {
     "data": {
      "text/plain": [
       "(array([-2, -2]), 1)"
      ]
     },
     "execution_count": 7,
     "metadata": {},
     "output_type": "execute_result"
    }
   ],
   "source": [
    "mat = np.array([[-1,1],[1,-1],[1,1],[2,2]])\n",
    "labels = np.array([1,1,-1,-1])\n",
    "perceptron(mat,labels,9)"
   ]
  },
  {
   "cell_type": "code",
   "execution_count": null,
   "metadata": {},
   "outputs": [],
   "source": []
  }
 ],
 "metadata": {
  "kernelspec": {
   "display_name": "Python 3",
   "language": "python",
   "name": "python3"
  },
  "language_info": {
   "codemirror_mode": {
    "name": "ipython",
    "version": 3
   },
   "file_extension": ".py",
   "mimetype": "text/x-python",
   "name": "python",
   "nbconvert_exporter": "python",
   "pygments_lexer": "ipython3",
   "version": "3.7.3"
  }
 },
 "nbformat": 4,
 "nbformat_minor": 4
}
